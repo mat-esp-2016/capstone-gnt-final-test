{
 "cells": [
  {
   "cell_type": "markdown",
   "metadata": {},
   "source": [
    "# Capstone: Analisando a temperatura do Brasil\n",
    "\n",
    "Nessa prática iremos juntar os conhecimentos que vimos durante toda a matéria. Vamos analisar os dados de temperatura do Brasil que vimos nas aulas de Python. Vamos utilizar uma [regressão linear](https://pt.wikipedia.org/wiki/Regress%C3%A3o_linear) para estimar a taxa de variação da temperatura ao longo dos anos. Finalmente, vamos visualizar esses valores em um mapa do Brasil.\n",
    "\n",
    "Faremos funções para cada etapa para podermos testar as partes do nosso código separadamente."
   ]
  },
  {
   "cell_type": "markdown",
   "metadata": {},
   "source": [
    "## Setup\n",
    "\n",
    "Abaixo, vamos carregar todas as bibliotecas que precisamos:\n",
    "\n",
    "* `numpy` para fazer contas com matrizes e vetores\n",
    "* `maptlotlib.pyplot` para fazer gráficos\n",
    "* `mpl_toolkits.basemap` para fazer mapas\n",
    "* `scipy.stats` para a regressão linear\n",
    "* `glob` para descobrir os nomes de todos os arquivos em uma pasta"
   ]
  },
  {
   "cell_type": "code",
   "execution_count": 79,
   "metadata": {
    "collapsed": false
   },
   "outputs": [],
   "source": [
    "%matplotlib inline\n",
    "import numpy as np\n",
    "import matplotlib.pyplot as plt\n",
    "from mpl_toolkits.basemap import Basemap\n",
    "from scipy.stats import linregress\n",
    "from glob import glob"
   ]
  },
  {
   "cell_type": "markdown",
   "metadata": {},
   "source": [
    "<div class=\"alert text-center\" style=\"font-size: 16pt\">\n",
    "Diferente das outras práticas, eu vou preecher o código inicial ao vivo durante a aula. \n",
    "<br><br>\n",
    "Façam junto comigo para não se perderem.\n",
    "</div>"
   ]
  },
  {
   "cell_type": "markdown",
   "metadata": {
    "collapsed": true
   },
   "source": [
    "## Passos:\n",
    " * Extrair lat/long\n",
    " * ler temp\n",
    " * ler as anomalias e anos decimais\n",
    " * Calc temp real\n",
    " * regressão (anos/temp real) = a\n",
    " * mapa (lat, long, a)"
   ]
  },
  {
   "cell_type": "code",
   "execution_count": 80,
   "metadata": {
    "collapsed": true
   },
   "outputs": [],
   "source": [
    "# Variavel para testar as funçoes\n",
    "teste = \"dados/0.80S-49.02W-TAVG-Trend.txt\""
   ]
  },
  {
   "cell_type": "markdown",
   "metadata": {},
   "source": [
    "# Extraindo Latitude e Longitude"
   ]
  },
  {
   "cell_type": "code",
   "execution_count": 81,
   "metadata": {
    "collapsed": false
   },
   "outputs": [],
   "source": [
    "def lat_long(nome_arquivo):\n",
    "    \"\"\"\n",
    "    Retorna as latitudes e as longitudes dos arquivos\n",
    "    \n",
    "    nome_arquivo deve ser uma string contendo o arquivo a ser lido\n",
    "    \n",
    "    \"\"\"\n",
    "    \n",
    "    arquivo = open(nome_arquivo)\n",
    "    \n",
    "    for linhas in range (0, 5):\n",
    "        linha = arquivo.readline()\n",
    "        \n",
    "    partes = linha.split()\n",
    "    \n",
    "    lat = float(partes[1])\n",
    "    long = float(partes[3])\n",
    "    \n",
    "    if partes [2] == 'S,':\n",
    "        lat = -lat\n",
    "    if partes [4] == 'W':\n",
    "        long = -long\n",
    "          \n",
    "    return (lat, long)"
   ]
  },
  {
   "cell_type": "code",
   "execution_count": 82,
   "metadata": {
    "collapsed": false
   },
   "outputs": [
    {
     "data": {
      "text/plain": [
       "(-0.8, -49.02)"
      ]
     },
     "execution_count": 82,
     "metadata": {},
     "output_type": "execute_result"
    }
   ],
   "source": [
    "lat_long(teste)"
   ]
  },
  {
   "cell_type": "markdown",
   "metadata": {},
   "source": [
    "# Achando a temperatura absoluta de cada arquivo"
   ]
  },
  {
   "cell_type": "code",
   "execution_count": 83,
   "metadata": {
    "collapsed": false
   },
   "outputs": [],
   "source": [
    "def le_temp_abs(nome_arquivo):\n",
    "    \n",
    "    arquivo = open(nome_arquivo)\n",
    "    \n",
    "    for linhas in range (48):\n",
    "        linha = arquivo.readline()\n",
    "        \n",
    "    partes = linha.split()\n",
    "    \n",
    "    temp_abs = float(partes[-3])\n",
    "    \n",
    "    return (temp_abs)"
   ]
  },
  {
   "cell_type": "code",
   "execution_count": 84,
   "metadata": {
    "collapsed": false
   },
   "outputs": [
    {
     "data": {
      "text/plain": [
       "26.74"
      ]
     },
     "execution_count": 84,
     "metadata": {},
     "output_type": "execute_result"
    }
   ],
   "source": [
    "le_temp_abs(teste)"
   ]
  },
  {
   "cell_type": "markdown",
   "metadata": {},
   "source": [
    "# Anomalia anual e anos decimais"
   ]
  },
  {
   "cell_type": "code",
   "execution_count": 85,
   "metadata": {
    "collapsed": false
   },
   "outputs": [],
   "source": [
    "def le_anos_anomalias(nome_arquivo):\n",
    "    \n",
    "    tabela = np.loadtxt(nome_arquivo, comments = \"%\")\n",
    "    \n",
    "    anos = tabela[0:,0]\n",
    "    meses = tabela[0:, 1]\n",
    "    anomalia = tabela[0:,4]\n",
    "    \n",
    "    anos_decimais = ((meses - 1)/12 + anos)\n",
    "\n",
    "    \n",
    "    return (anomalia, anos_decimais)"
   ]
  },
  {
   "cell_type": "code",
   "execution_count": 86,
   "metadata": {
    "collapsed": false,
    "scrolled": true
   },
   "outputs": [
    {
     "data": {
      "text/plain": [
       "(array([   nan,    nan, -0.872, ...,    nan,    nan,    nan]),\n",
       " array([ 1845.        ,  1845.08333333,  1845.16666667, ...,  2013.5       ,\n",
       "         2013.58333333,  2013.66666667]))"
      ]
     },
     "execution_count": 86,
     "metadata": {},
     "output_type": "execute_result"
    }
   ],
   "source": [
    "le_anos_anomalias(teste)"
   ]
  },
  {
   "cell_type": "markdown",
   "metadata": {},
   "source": [
    "# Junção da temperatura absoluta e a anomalia (Tambem retorna os anos decimais)"
   ]
  },
  {
   "cell_type": "code",
   "execution_count": 87,
   "metadata": {
    "collapsed": false
   },
   "outputs": [],
   "source": [
    "def temp_real_e_anos_decimais(nome_arquivo):\n",
    "    \n",
    "    anomalia, anos_decimais = le_anos_anomalias(nome_arquivo)\n",
    "    \n",
    "    temp = le_temp_abs(nome_arquivo)\n",
    "    \n",
    "    temp_abs = temp + anomalia\n",
    "    \n",
    "    return(temp_abs, anos_decimais)"
   ]
  },
  {
   "cell_type": "code",
   "execution_count": 88,
   "metadata": {
    "collapsed": false,
    "scrolled": true
   },
   "outputs": [
    {
     "data": {
      "text/plain": [
       "(array([    nan,     nan,  25.868, ...,     nan,     nan,     nan]),\n",
       " array([ 1845.        ,  1845.08333333,  1845.16666667, ...,  2013.5       ,\n",
       "         2013.58333333,  2013.66666667]))"
      ]
     },
     "execution_count": 88,
     "metadata": {},
     "output_type": "execute_result"
    }
   ],
   "source": [
    "temp_real_e_anos_decimais(teste)"
   ]
  },
  {
   "cell_type": "markdown",
   "metadata": {},
   "source": [
    "# Calculo da regressão"
   ]
  },
  {
   "cell_type": "code",
   "execution_count": 89,
   "metadata": {
    "collapsed": true
   },
   "outputs": [],
   "source": [
    "def regressão(nome_arquivo):\n",
    "    \n",
    "    temperaturas, anos = temp_real_e_anos_decimais(nome_arquivo)\n",
    "    ano_sem_nan = []\n",
    "    temperatura_sem_nan = []\n",
    "\n",
    "    for temperatura, ano in zip(temperaturas, anos):\n",
    "        if not np.isnan(temperatura):\n",
    "            temperatura_sem_nan.append(temperatura)\n",
    "            ano_sem_nan.append(ano)\n",
    "            \n",
    "    return (temperatura_sem_nan, ano_sem_nan)"
   ]
  },
  {
   "cell_type": "code",
   "execution_count": 90,
   "metadata": {
    "collapsed": true
   },
   "outputs": [],
   "source": [
    "a,b,r_value, p_value, std_err = linregress(anos_sem_nan, temp_sem_nan)"
   ]
  },
  {
   "cell_type": "code",
   "execution_count": 91,
   "metadata": {
    "collapsed": false
   },
   "outputs": [
    {
     "data": {
      "text/plain": [
       "0.88148853553276563"
      ]
     },
     "execution_count": 91,
     "metadata": {},
     "output_type": "execute_result"
    }
   ],
   "source": [
    "a*100"
   ]
  },
  {
   "cell_type": "markdown",
   "metadata": {},
   "source": [
    "# Mapa"
   ]
  },
  {
   "cell_type": "code",
   "execution_count": null,
   "metadata": {
    "collapsed": true
   },
   "outputs": [],
   "source": [
    "nome_arquivos = glob(\"dados/*.txt\")"
   ]
  },
  {
   "cell_type": "code",
   "execution_count": 100,
   "metadata": {
    "collapsed": false
   },
   "outputs": [],
   "source": [
    "latitudes = []\n",
    "longitudes = []\n",
    "variação_de_temperatura = []\n",
    "\n",
    "for arquivo in nome_arquivos:\n",
    "    \n",
    "    lat, long = lat_long(arquivo)\n",
    "    latitudes.append(lat)\n",
    "    longitudes.append(long)\n",
    "    \n",
    "    temp_absoluta = le_temp_abs(arquivo)\n",
    "    anomalia, anos = le_anos_anomalias(arquivo)\n",
    "    temp_real, anos_decimais = temp_real_e_anos_decimais(arquivo)\n",
    "    temp_sem_nan, anos_sem_nan = regressão(arquivo)\n",
    "    a,b,r_value, p_value, std_err = linregress(anos_sem_nan, temp_sem_nan)\n",
    "    variação_de_temperatura.append(a*100)"
   ]
  },
  {
   "cell_type": "code",
   "execution_count": 104,
   "metadata": {
    "collapsed": false
   },
   "outputs": [],
   "source": [
    "bm = Basemap(projection= \"merc\", \n",
    "        llcrnrlat = -35, llcrnrlon = -75,\n",
    "        urcrnrlat = 5, urcrnrlon = -35)"
   ]
  },
  {
   "cell_type": "code",
   "execution_count": 109,
   "metadata": {
    "collapsed": false
   },
   "outputs": [
    {
     "data": {
      "text/plain": [
       "<matplotlib.collections.LineCollection at 0x247712421d0>"
      ]
     },
     "execution_count": 109,
     "metadata": {},
     "output_type": "execute_result"
    },
    {
     "data": {
      "image/png": "[encoded data removed]",
      "text/plain": [
       "<matplotlib.figure.Figure at 0x2476ec4e908>"
      ]
     },
     "metadata": {},
     "output_type": "display_data"
    }
   ],
   "source": [
    "plt.figure()\n",
    "bm.scatter(longitudes , latitudes, s= 40, c= variação_de_temperatura, cmap = \"Reds\", latlon = True)\n",
    "cb = plt.colorbar(pad=0, aspect = 40)\n",
    "cb.set_label(\"ºC/ano\")\n",
    "bm.drawcoastlines(linewidth=0.3)\n",
    "bm.drawcountries(linewidth=1.5)\n",
    "bm.drawstates()"
   ]
  },
  {
   "cell_type": "markdown",
   "metadata": {
    "collapsed": true
   },
   "source": [
    "**Course website**: https://github.com/mat-esp/about\n",
    "\n",
    "**Note**: This notebook is part of the course \"Matemática Especial I\" of the [Universidade do Estado do Rio de Janeiro](http://www.uerj.br/). All content can be freely used and adapted under the terms of the \n",
    "[Creative Commons Attribution 4.0 International License](http://creativecommons.org/licenses/by/4.0/).\n",
    "\n",
    "![Creative Commons License](https://i.creativecommons.org/l/by/4.0/88x31.png)"
   ]
  }
 ],
 "metadata": {
  "anaconda-cloud": {},
  "kernelspec": {
   "display_name": "Python [Root]",
   "language": "python",
   "name": "Python [Root]"
  },
  "language_info": {
   "codemirror_mode": {
    "name": "ipython",
    "version": 3
   },
   "file_extension": ".py",
   "mimetype": "text/x-python",
   "name": "python",
   "nbconvert_exporter": "python",
   "pygments_lexer": "ipython3",
   "version": "3.5.2"
  }
 },
 "nbformat": 4,
 "nbformat_minor": 0
}
