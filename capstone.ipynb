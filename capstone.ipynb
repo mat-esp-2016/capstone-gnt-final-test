{
 "cells": [
  {
   "cell_type": "markdown",
   "metadata": {},
   "source": [
    "# Capstone: Analisando a temperatura do Brasil\n",
    "\n",
    "Nessa prática iremos juntar os conhecimentos que vimos durante toda a matéria. Vamos analisar os dados de temperatura do Brasil que vimos nas aulas de Python. Vamos utilizar uma [regressão linear](https://pt.wikipedia.org/wiki/Regress%C3%A3o_linear) para estimar a taxa de variação da temperatura ao longo dos anos. Finalmente, vamos visualizar esses valores em um mapa do Brasil.\n",
    "\n",
    "Faremos funções para cada etapa para podermos testar as partes do nosso código separadamente."
   ]
  },
  {
   "cell_type": "markdown",
   "metadata": {},
   "source": [
    "## Setup\n",
    "\n",
    "Abaixo, vamos carregar todas as bibliotecas que precisamos:\n",
    "\n",
    "* `numpy` para fazer contas com matrizes e vetores\n",
    "* `maptlotlib.pyplot` para fazer gráficos\n",
    "* `mpl_toolkits.basemap` para fazer mapas\n",
    "* `scipy.stats` para a regressão linear\n",
    "* `glob` para descobrir os nomes de todos os arquivos em uma pasta"
   ]
  },
  {
   "cell_type": "code",
   "execution_count": 1,
   "metadata": {
    "collapsed": false
   },
   "outputs": [],
   "source": [
    "%matplotlib inline\n",
    "import numpy as np\n",
    "import matplotlib.pyplot as plt\n",
    "#from mpl_toolkits.basemap import Basemap\n",
    "from scipy.stats import linregress\n",
    "from glob import glob"
   ]
  },
  {
   "cell_type": "markdown",
   "metadata": {},
   "source": [
    "<div class=\"alert text-center\" style=\"font-size: 16pt\">\n",
    "Diferente das outras práticas, eu vou preecher o código inicial ao vivo durante a aula. \n",
    "<br><br>\n",
    "Façam junto comigo para não se perderem.\n",
    "</div>"
   ]
  },
  {
   "cell_type": "markdown",
   "metadata": {
    "collapsed": true
   },
   "source": [
    "## Passos:\n",
    " * Extrair lat/long\n",
    " * ler temp\n",
    " * ler as anomalias e anos decimais\n",
    " * Calc temp real\n",
    " * regressão (anos/temp real) = a\n",
    " * mapa (lat, long, a)"
   ]
  },
  {
   "cell_type": "code",
   "execution_count": 2,
   "metadata": {
    "collapsed": true
   },
   "outputs": [],
   "source": [
    "nome = \"dados/0.80S-49.02W-TAVG-Trend.txt\""
   ]
  },
  {
   "cell_type": "code",
   "execution_count": 9,
   "metadata": {
    "collapsed": false
   },
   "outputs": [],
   "source": [
    "def lat_long(nome_arquivo):\n",
    "    \n",
    "    arquivo = open(nome_arquivo)\n",
    "    \n",
    "    for linhas in range (0, 5):\n",
    "        linha = arquivo.readline()\n",
    "        \n",
    "    partes = linha.split()\n",
    "    \n",
    "    lat = float(partes[1])\n",
    "    long = float(partes[3])\n",
    "    \n",
    "    if partes [2] == 'S,':\n",
    "        lat = -lat\n",
    "    if partes [4] == 'W':\n",
    "        long = -long\n",
    "          \n",
    "    return (lat, long)"
   ]
  },
  {
   "cell_type": "code",
   "execution_count": 4,
   "metadata": {
    "collapsed": false
   },
   "outputs": [],
   "source": [
    "def le_temp_abs(nome_arquivo):\n",
    "    \n",
    "    arquivo = open(nome_arquivo)\n",
    "    \n",
    "    for linhas in range (48):\n",
    "        linha = arquivo.readline()\n",
    "        \n",
    "    partes = linha.split()\n",
    "    \n",
    "    temp_abs = float(partes[-3])\n",
    "    \n",
    "    return (temp_abs)"
   ]
  },
  {
   "cell_type": "code",
   "execution_count": 34,
   "metadata": {
    "collapsed": false
   },
   "outputs": [],
   "source": [
    "def le_anos_anomalias(nome_arquivo):\n",
    "    \n",
    "    tabela = np.loadtxt(nome_arquivo, comments = \"%\")\n",
    "    \n",
    "    anos = tabela[0:,0]\n",
    "    meses = tabela[0:, 1]\n",
    "    anomalia = tabela[0:,4]\n",
    "    \n",
    "    anos_decimais = ((meses - 1)/12 + anos)\n",
    "\n",
    "    \n",
    "    return (anomalia, anos_decimais)"
   ]
  },
  {
   "cell_type": "code",
   "execution_count": 25,
   "metadata": {
    "collapsed": false
   },
   "outputs": [],
   "source": [
    "def temp_real(nome_arquivo):\n",
    "    \n",
    "    anomalia, anos_decimais = le_anos_anomalias(nome_arquivo)\n",
    "    \n",
    "    temp = le_temp_abs(nome_arquivo)\n",
    "    \n",
    "    temp_abs = temp + anomalia\n",
    "    \n",
    "    return(temp_abs, anos_decimais)"
   ]
  },
  {
   "cell_type": "markdown",
   "metadata": {},
   "source": [
    "# Regressão"
   ]
  },
  {
   "cell_type": "code",
   "execution_count": 59,
   "metadata": {
    "collapsed": false
   },
   "outputs": [],
   "source": [
    "ano_sem_nan = []\n",
    "temperatura_sem_nan = []\n",
    "\n",
    "for temperatura, ano in zip(temperaturas, anos):\n",
    "    if not np.isnan(temperatura):\n",
    "        temperatura_sem_nan.append(temperaturas)\n",
    "        ano_sem_nan.append(ano)"
   ]
  },
  {
   "cell_type": "code",
   "execution_count": 67,
   "metadata": {
    "collapsed": false
   },
   "outputs": [
    {
     "name": "stdout",
     "output_type": "stream",
     "text": [
      "0.00832160974446 C/ano\n"
     ]
    }
   ],
   "source": [
    "a,b, r_value, p_value, std_err = linregress(ano_sem_nan, temperatura_sem_nan)\n",
    "print(a, \"C/ano\")"
   ]
  },
  {
   "cell_type": "markdown",
   "metadata": {
    "collapsed": true
   },
   "source": [
    "**Course website**: https://github.com/mat-esp/about\n",
    "\n",
    "**Note**: This notebook is part of the course \"Matemática Especial I\" of the [Universidade do Estado do Rio de Janeiro](http://www.uerj.br/). All content can be freely used and adapted under the terms of the \n",
    "[Creative Commons Attribution 4.0 International License](http://creativecommons.org/licenses/by/4.0/).\n",
    "\n",
    "![Creative Commons License](https://i.creativecommons.org/l/by/4.0/88x31.png)"
   ]
  },
  {
   "cell_type": "code",
   "execution_count": null,
   "metadata": {
    "collapsed": true
   },
   "outputs": [],
   "source": []
  }
 ],
 "metadata": {
  "anaconda-cloud": {},
  "kernelspec": {
   "display_name": "Python [Root]",
   "language": "python",
   "name": "Python [Root]"
  },
  "language_info": {
   "codemirror_mode": {
    "name": "ipython",
    "version": 3
   },
   "file_extension": ".py",
   "mimetype": "text/x-python",
   "name": "python",
   "nbconvert_exporter": "python",
   "pygments_lexer": "ipython3",
   "version": "3.5.2"
  }
 },
 "nbformat": 4,
 "nbformat_minor": 0
}
